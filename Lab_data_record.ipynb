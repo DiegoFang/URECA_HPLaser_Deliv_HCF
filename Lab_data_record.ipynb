{
 "cells": [
  {
   "cell_type": "markdown",
   "id": "4a73faed",
   "metadata": {},
   "source": [
    "### A lab record for URECA project.  \n",
    "* Fang Mingzhi  \n"
   ]
  }
 ],
 "metadata": {
  "language_info": {
   "name": "python"
  }
 },
 "nbformat": 4,
 "nbformat_minor": 5
}
